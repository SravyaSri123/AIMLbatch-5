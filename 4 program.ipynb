{
 "cells": [
  {
   "cell_type": "code",
   "execution_count": null,
   "metadata": {},
   "outputs": [],
   "source": [
    "# Simple Python program to calculate the mean of a list of numbers\n",
    "\n",
    "# Input a list of numbers (comma-separated)\n",
    "numbers_input = input(\"Enter a list of numbers (comma-separated): \")\n",
    "\n",
    "# Convert the input string into a list of floats\n",
    "numbers = [float(x) for x in numbers_input.split(',')]\n",
    "\n",
    "# Calculate the mean\n",
    "mean = sum(numbers) / len(numbers)\n",
    "\n",
    "# Display the result\n",
    "print(f\"The mean of the numbers is: {mean}\")\n"
   ]
  }
 ],
 "metadata": {
  "language_info": {
   "name": "python"
  }
 },
 "nbformat": 4,
 "nbformat_minor": 2
}
